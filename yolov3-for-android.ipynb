{
  "nbformat": 4,
  "nbformat_minor": 0,
  "metadata": {
    "colab": {
      "name": "yolov3-training.ipynb",
      "provenance": [],
      "collapsed_sections": []
    },
    "kernelspec": {
      "name": "python3",
      "display_name": "Python 3"
    },
    "accelerator": "GPU"
  },
  "cells": [
    {
      "cell_type": "code",
      "metadata": {
        "id": "qdQWft7loUTA",
        "colab_type": "code",
        "colab": {}
      },
      "source": [
        "import cv2\n",
        "import matplotlib\n",
        "import numpy"
      ],
      "execution_count": null,
      "outputs": []
    },
    {
      "cell_type": "markdown",
      "metadata": {
        "id": "iICdPW9NvWt3",
        "colab_type": "text"
      },
      "source": [
        "##Mount your google drive to colab server"
      ]
    },
    {
      "cell_type": "code",
      "metadata": {
        "id": "S4ri8r4sttnd",
        "colab_type": "code",
        "colab": {}
      },
      "source": [
        "from google.colab import drive\n",
        "drive.mount('/content/drive')\n"
      ],
      "execution_count": null,
      "outputs": []
    },
    {
      "cell_type": "markdown",
      "metadata": {
        "id": "DhiyaogJvs_O",
        "colab_type": "text"
      },
      "source": [
        "Create a folder name Colab Notebooks in your google drive....this is where your downloaded darknet framework will be stored"
      ]
    },
    {
      "cell_type": "code",
      "metadata": {
        "id": "augDxqS1voam",
        "colab_type": "code",
        "colab": {}
      },
      "source": [
        "cd /content/drive/My Drive/Colab Notebooks/"
      ],
      "execution_count": null,
      "outputs": []
    },
    {
      "cell_type": "markdown",
      "metadata": {
        "id": "LXu8_C5NwIxk",
        "colab_type": "text"
      },
      "source": [
        "clone the darknet framework from the github repo as follows"
      ]
    },
    {
      "cell_type": "code",
      "metadata": {
        "id": "Vm0M1qdduYU9",
        "colab_type": "code",
        "colab": {}
      },
      "source": [
        "!git clone https://github.com/AlexeyAB/darknet"
      ],
      "execution_count": null,
      "outputs": []
    },
    {
      "cell_type": "markdown",
      "metadata": {
        "id": "9gg0C5Y5wQaL",
        "colab_type": "text"
      },
      "source": [
        "cd to the darknet folder inside the Colab Notebooks folder you created above"
      ]
    },
    {
      "cell_type": "code",
      "metadata": {
        "id": "0GDvjd7mvPBp",
        "colab_type": "code",
        "colab": {}
      },
      "source": [
        "cd /content/drive/My Drive/Colab Notebooks/darknet"
      ],
      "execution_count": null,
      "outputs": []
    },
    {
      "cell_type": "markdown",
      "metadata": {
        "id": "ThtCp4-EpQPT",
        "colab_type": "text"
      },
      "source": [
        "### Compile darknet"
      ]
    },
    {
      "cell_type": "code",
      "metadata": {
        "id": "rn0pdvhtxHix",
        "colab_type": "code",
        "colab": {}
      },
      "source": [
        "%cd darknet\n",
        "!sed -i 's/CUDNN=0/CUDNN=0/g' Makefile\n",
        "!sed -i 's/GPU=0/GPU=1/g' Makefile\n",
        "!sed -i 's/OPENCV=0/OPENCV=1/g' Makefile\n",
        "!cat Makefile\n",
        "!make"
      ],
      "execution_count": null,
      "outputs": []
    },
    {
      "cell_type": "markdown",
      "metadata": {
        "id": "guZasLRGpgRD",
        "colab_type": "text"
      },
      "source": [
        "#Download your custom data set prepared in the format used for training YOLOV3 model\n"
      ]
    },
    {
      "cell_type": "code",
      "metadata": {
        "id": "uQ_Vl3RzpmPU",
        "colab_type": "code",
        "colab": {}
      },
      "source": [
        "\n",
        "import os.path\n",
        "import shutil\n",
        "from google.colab import drive\n",
        "\n",
        "DOWNLOAD_LOCATION = '/content/drive/My Drive/Colab Notebooks/darknet/data/' # create the folders in your G-drive as indicated here\n",
        "DRIVE_DATASET_FILE = '/content/drive/My Drive/Colab Notebooks/ml/xxxxx.rar' #adjust path/name of dataset which is in your G-drive\n",
        "\n",
        "shutil.copy(DRIVE_DATASET_FILE, DOWNLOAD_LOCATION)\n",
        "\n",
        "print('Successfully downloaded the dataset')\n"
      ],
      "execution_count": null,
      "outputs": []
    },
    {
      "cell_type": "markdown",
      "metadata": {
        "id": "6mv4-cjHrjV0",
        "colab_type": "text"
      },
      "source": [
        "### Unzip the dataset"
      ]
    },
    {
      "cell_type": "code",
      "metadata": {
        "id": "8MrNs0X2rixE",
        "colab_type": "code",
        "colab": {}
      },
      "source": [
        "!unzip  /content/drive/My\\ Drive/Colab\\ Notebooks/darknet/data/xxxxx.rar -d /content/drive/My\\ Drive/Colab\\ Notebooks/darknet/data/ # adjust the dataset filename which you have downloaded from Google drive"
      ],
      "execution_count": null,
      "outputs": []
    },
    {
      "cell_type": "markdown",
      "metadata": {
        "id": "CV_Y9nfbsATG",
        "colab_type": "text"
      },
      "source": [
        "\n",
        "### if your dataset is small use pretrained weight file which can be downloaded as follows. If you want to train your model from scrtach using your custom dataset you can jump this step"
      ]
    },
    {
      "cell_type": "code",
      "metadata": {
        "id": "v9DIiCpAsNpK",
        "colab_type": "code",
        "colab": {}
      },
      "source": [
        "!wget https://pjreddie.com/media/files/darknet53.conv.74"
      ],
      "execution_count": null,
      "outputs": []
    },
    {
      "cell_type": "markdown",
      "metadata": {
        "id": "mRRffYhouYJp",
        "colab_type": "text"
      },
      "source": [
        "### Train your model using your custom dataset. If you are not well aware of the steps how to train and how to set hyperparameters when training yolov3 model using custom dataset read furthe on the github repo of AlexyAB's site https://github.com/AlexeyAB/darknet\n",
        "\n"
      ]
    },
    {
      "cell_type": "code",
      "metadata": {
        "id": "vbfDfCnoua1i",
        "colab_type": "code",
        "colab": {}
      },
      "source": [
        "%cd darknet\n",
        "!./darknet detector train data/trainer.data cfg/yolov3.cfg darknet53.conv.74  -dont_show -map | tee backup/log.txt "
      ],
      "execution_count": null,
      "outputs": []
    },
    {
      "cell_type": "markdown",
      "metadata": {
        "id": "67xSMGMx2Qdo",
        "colab_type": "text"
      },
      "source": [
        "## You can test your model prediction as follows on sample test image. thresh and iou_thresh are optional you can change as you want"
      ]
    },
    {
      "cell_type": "code",
      "metadata": {
        "id": "o7RHTzYj2T98",
        "colab_type": "code",
        "colab": {}
      },
      "source": [
        "!./darknet detector test data/trainer.data cfg/yolov3.cfg backup/yolov3_last.weights -thresh 0.1  -iou_thresh 0.3  data/img/xxxxxx.jpg"
      ],
      "execution_count": null,
      "outputs": []
    },
    {
      "cell_type": "markdown",
      "metadata": {
        "id": "PEaSrt0x0dEH",
        "colab_type": "text"
      },
      "source": [
        "#once you decided your model predicts well on your problem domain now it is time to convert or to deploy the model in to your android device. First download clone the folowing github repo to your google drive. This repo helps you to convert the trained yolov3 model to .pb file which is used further processing in the tensorflow android API. run the cells step by step"
      ]
    },
    {
      "cell_type": "code",
      "metadata": {
        "id": "NYNE20B31AsL",
        "colab_type": "code",
        "colab": {}
      },
      "source": [
        "!git clone https://github.com/jinyu121/DW2TF"
      ],
      "execution_count": null,
      "outputs": []
    },
    {
      "cell_type": "code",
      "metadata": {
        "id": "bwk8e1Oj1UCp",
        "colab_type": "code",
        "colab": {}
      },
      "source": [
        "!unzip DW2TF-master.zip"
      ],
      "execution_count": null,
      "outputs": []
    },
    {
      "cell_type": "code",
      "metadata": {
        "id": "p72z4zbK1z4a",
        "colab_type": "code",
        "colab": {}
      },
      "source": [
        "!python3 main.py \\\n",
        "  --cfg 'data/yolov3.cfg' \\\n",
        "  --weights 'data/yolov3_last.weights' \\\n",
        "  --output 'data/' \\\n",
        "  --prefix 'yolov3/' \\\n",
        "  --gpu 0"
      ],
      "execution_count": null,
      "outputs": []
    },
    {
      "cell_type": "code",
      "metadata": {
        "id": "29lWbXvE4MBY",
        "colab_type": "code",
        "colab": {}
      },
      "source": [
        ""
      ],
      "execution_count": null,
      "outputs": []
    },
    {
      "cell_type": "markdown",
      "metadata": {
        "id": "Ep-t_vkE4yo2",
        "colab_type": "text"
      },
      "source": [
        "#getting input and output node names from yolov3 .pb file is difficult. if you get difficulty on it use this blog post https://medium.com/@afetulhak/how-to-find-input-and-output-node-names-for-yolov3-from-tensorflow-pb-file-using-google-colab-2dc0f9e73258"
      ]
    },
    {
      "cell_type": "code",
      "metadata": {
        "id": "hgYLd1Bj2WwE",
        "colab_type": "code",
        "colab": {}
      },
      "source": [
        "!python3 freeze_graph.py  \\\n",
        " --input_graph data/yolov3.pb  \\\n",
        " --input_checkpoint data/yolov3.ckpt  \\\n",
        " --input_binary=true  \\\n",
        " --output_graph=ultimate_yolov3.bp  \\\n",
        " --output_node_names=yolov3/convolutional59/BiasAdd,yolov3/convolutional67/BiasAdd,yolov3/convolutional75/BiasAdd"
      ],
      "execution_count": null,
      "outputs": []
    },
    {
      "cell_type": "markdown",
      "metadata": {
        "id": "jMpw-d4m5DA1",
        "colab_type": "text"
      },
      "source": [
        "After running all the cells you will get .bp file in your google drive. Download this file and put it in asset folder of the android studio code"
      ]
    }
  ]
}